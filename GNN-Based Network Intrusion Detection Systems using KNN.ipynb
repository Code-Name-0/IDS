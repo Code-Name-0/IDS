{
 "cells": [
  {
   "cell_type": "code",
   "execution_count": 1,
   "id": "0ae26f06",
   "metadata": {
    "execution": {
     "iopub.execute_input": "2025-01-31T21:30:52.714399Z",
     "iopub.status.busy": "2025-01-31T21:30:52.714096Z",
     "iopub.status.idle": "2025-01-31T21:30:53.420121Z",
     "shell.execute_reply": "2025-01-31T21:30:53.419296Z"
    },
    "papermill": {
     "duration": 0.715391,
     "end_time": "2025-01-31T21:30:53.421651",
     "exception": false,
     "start_time": "2025-01-31T21:30:52.706260",
     "status": "completed"
    },
    "tags": []
   },
   "outputs": [],
   "source": [
    "import pandas as pd\n",
    "import numpy as np\n",
    "import matplotlib.pyplot as plt"
   ]
  },
  {
   "cell_type": "code",
   "execution_count": 2,
   "id": "878a88ef",
   "metadata": {
    "execution": {
     "iopub.execute_input": "2025-01-31T21:30:53.433330Z",
     "iopub.status.busy": "2025-01-31T21:30:53.432993Z",
     "iopub.status.idle": "2025-01-31T21:30:58.762722Z",
     "shell.execute_reply": "2025-01-31T21:30:58.761610Z"
    },
    "papermill": {
     "duration": 5.336801,
     "end_time": "2025-01-31T21:30:58.764117",
     "exception": false,
     "start_time": "2025-01-31T21:30:53.427316",
     "status": "completed"
    },
    "tags": []
   },
   "outputs": [
    {
     "name": "stdout",
     "output_type": "stream",
     "text": [
      "Requirement already satisfied: torch in /usr/local/lib/python3.10/dist-packages (2.5.1+cu121)\r\n",
      "Collecting torch-geometric\r\n",
      "  Downloading torch_geometric-2.6.1-py3-none-any.whl.metadata (63 kB)\r\n",
      "\u001b[2K     \u001b[90m━━━━━━━━━━━━━━━━━━━━━━━━━━━━━━━━━━━━━━━━\u001b[0m \u001b[32m63.1/63.1 kB\u001b[0m \u001b[31m2.3 MB/s\u001b[0m eta \u001b[36m0:00:00\u001b[0m\r\n",
      "\u001b[?25hRequirement already satisfied: pandas in /usr/local/lib/python3.10/dist-packages (2.2.2)\r\n",
      "Requirement already satisfied: networkx in /usr/local/lib/python3.10/dist-packages (3.4.2)\r\n",
      "Requirement already satisfied: scikit-learn in /usr/local/lib/python3.10/dist-packages (1.2.2)\r\n",
      "Requirement already satisfied: kaggle in /usr/local/lib/python3.10/dist-packages (1.6.17)\r\n",
      "Requirement already satisfied: filelock in /usr/local/lib/python3.10/dist-packages (from torch) (3.16.1)\r\n",
      "Requirement already satisfied: typing-extensions>=4.8.0 in /usr/local/lib/python3.10/dist-packages (from torch) (4.12.2)\r\n",
      "Requirement already satisfied: jinja2 in /usr/local/lib/python3.10/dist-packages (from torch) (3.1.4)\r\n",
      "Requirement already satisfied: fsspec in /usr/local/lib/python3.10/dist-packages (from torch) (2024.9.0)\r\n",
      "Requirement already satisfied: sympy==1.13.1 in /usr/local/lib/python3.10/dist-packages (from torch) (1.13.1)\r\n",
      "Requirement already satisfied: mpmath<1.4,>=1.1.0 in /usr/local/lib/python3.10/dist-packages (from sympy==1.13.1->torch) (1.3.0)\r\n",
      "Requirement already satisfied: aiohttp in /usr/local/lib/python3.10/dist-packages (from torch-geometric) (3.11.10)\r\n",
      "Requirement already satisfied: numpy in /usr/local/lib/python3.10/dist-packages (from torch-geometric) (1.26.4)\r\n",
      "Requirement already satisfied: psutil>=5.8.0 in /usr/local/lib/python3.10/dist-packages (from torch-geometric) (5.9.5)\r\n",
      "Requirement already satisfied: pyparsing in /usr/local/lib/python3.10/dist-packages (from torch-geometric) (3.2.0)\r\n",
      "Requirement already satisfied: requests in /usr/local/lib/python3.10/dist-packages (from torch-geometric) (2.32.3)\r\n",
      "Requirement already satisfied: tqdm in /usr/local/lib/python3.10/dist-packages (from torch-geometric) (4.67.1)\r\n",
      "Requirement already satisfied: python-dateutil>=2.8.2 in /usr/local/lib/python3.10/dist-packages (from pandas) (2.8.2)\r\n",
      "Requirement already satisfied: pytz>=2020.1 in /usr/local/lib/python3.10/dist-packages (from pandas) (2024.2)\r\n",
      "Requirement already satisfied: tzdata>=2022.7 in /usr/local/lib/python3.10/dist-packages (from pandas) (2024.2)\r\n",
      "Requirement already satisfied: scipy>=1.3.2 in /usr/local/lib/python3.10/dist-packages (from scikit-learn) (1.13.1)\r\n",
      "Requirement already satisfied: joblib>=1.1.1 in /usr/local/lib/python3.10/dist-packages (from scikit-learn) (1.4.2)\r\n",
      "Requirement already satisfied: threadpoolctl>=2.0.0 in /usr/local/lib/python3.10/dist-packages (from scikit-learn) (3.5.0)\r\n",
      "Requirement already satisfied: six>=1.10 in /usr/local/lib/python3.10/dist-packages (from kaggle) (1.17.0)\r\n",
      "Requirement already satisfied: certifi>=2023.7.22 in /usr/local/lib/python3.10/dist-packages (from kaggle) (2024.12.14)\r\n",
      "Requirement already satisfied: python-slugify in /usr/local/lib/python3.10/dist-packages (from kaggle) (8.0.4)\r\n",
      "Requirement already satisfied: urllib3 in /usr/local/lib/python3.10/dist-packages (from kaggle) (2.2.3)\r\n",
      "Requirement already satisfied: bleach in /usr/local/lib/python3.10/dist-packages (from kaggle) (6.2.0)\r\n",
      "Requirement already satisfied: mkl_fft in /usr/local/lib/python3.10/dist-packages (from numpy->torch-geometric) (1.3.8)\r\n",
      "Requirement already satisfied: mkl_random in /usr/local/lib/python3.10/dist-packages (from numpy->torch-geometric) (1.2.4)\r\n",
      "Requirement already satisfied: mkl_umath in /usr/local/lib/python3.10/dist-packages (from numpy->torch-geometric) (0.1.1)\r\n",
      "Requirement already satisfied: mkl in /usr/local/lib/python3.10/dist-packages (from numpy->torch-geometric) (2025.0.1)\r\n",
      "Requirement already satisfied: tbb4py in /usr/local/lib/python3.10/dist-packages (from numpy->torch-geometric) (2022.0.0)\r\n",
      "Requirement already satisfied: mkl-service in /usr/local/lib/python3.10/dist-packages (from numpy->torch-geometric) (2.4.1)\r\n",
      "Requirement already satisfied: aiohappyeyeballs>=2.3.0 in /usr/local/lib/python3.10/dist-packages (from aiohttp->torch-geometric) (2.4.4)\r\n",
      "Requirement already satisfied: aiosignal>=1.1.2 in /usr/local/lib/python3.10/dist-packages (from aiohttp->torch-geometric) (1.3.2)\r\n",
      "Requirement already satisfied: async-timeout<6.0,>=4.0 in /usr/local/lib/python3.10/dist-packages (from aiohttp->torch-geometric) (4.0.3)\r\n",
      "Requirement already satisfied: attrs>=17.3.0 in /usr/local/lib/python3.10/dist-packages (from aiohttp->torch-geometric) (24.3.0)\r\n",
      "Requirement already satisfied: frozenlist>=1.1.1 in /usr/local/lib/python3.10/dist-packages (from aiohttp->torch-geometric) (1.5.0)\r\n",
      "Requirement already satisfied: multidict<7.0,>=4.5 in /usr/local/lib/python3.10/dist-packages (from aiohttp->torch-geometric) (6.1.0)\r\n",
      "Requirement already satisfied: propcache>=0.2.0 in /usr/local/lib/python3.10/dist-packages (from aiohttp->torch-geometric) (0.2.1)\r\n",
      "Requirement already satisfied: yarl<2.0,>=1.17.0 in /usr/local/lib/python3.10/dist-packages (from aiohttp->torch-geometric) (1.18.3)\r\n",
      "Requirement already satisfied: webencodings in /usr/local/lib/python3.10/dist-packages (from bleach->kaggle) (0.5.1)\r\n",
      "Requirement already satisfied: MarkupSafe>=2.0 in /usr/local/lib/python3.10/dist-packages (from jinja2->torch) (3.0.2)\r\n",
      "Requirement already satisfied: text-unidecode>=1.3 in /usr/local/lib/python3.10/dist-packages (from python-slugify->kaggle) (1.3)\r\n",
      "Requirement already satisfied: charset-normalizer<4,>=2 in /usr/local/lib/python3.10/dist-packages (from requests->torch-geometric) (3.4.0)\r\n",
      "Requirement already satisfied: idna<4,>=2.5 in /usr/local/lib/python3.10/dist-packages (from requests->torch-geometric) (3.10)\r\n",
      "Requirement already satisfied: intel-openmp>=2024 in /usr/local/lib/python3.10/dist-packages (from mkl->numpy->torch-geometric) (2024.2.0)\r\n",
      "Requirement already satisfied: tbb==2022.* in /usr/local/lib/python3.10/dist-packages (from mkl->numpy->torch-geometric) (2022.0.0)\r\n",
      "Requirement already satisfied: tcmlib==1.* in /usr/local/lib/python3.10/dist-packages (from tbb==2022.*->mkl->numpy->torch-geometric) (1.2.0)\r\n",
      "Requirement already satisfied: intel-cmplr-lib-rt in /usr/local/lib/python3.10/dist-packages (from mkl_umath->numpy->torch-geometric) (2024.2.0)\r\n",
      "Requirement already satisfied: intel-cmplr-lib-ur==2024.2.0 in /usr/local/lib/python3.10/dist-packages (from intel-openmp>=2024->mkl->numpy->torch-geometric) (2024.2.0)\r\n",
      "Downloading torch_geometric-2.6.1-py3-none-any.whl (1.1 MB)\r\n",
      "\u001b[2K   \u001b[90m━━━━━━━━━━━━━━━━━━━━━━━━━━━━━━━━━━━━━━━━\u001b[0m \u001b[32m1.1/1.1 MB\u001b[0m \u001b[31m28.0 MB/s\u001b[0m eta \u001b[36m0:00:00\u001b[0m\r\n",
      "\u001b[?25hInstalling collected packages: torch-geometric\r\n",
      "Successfully installed torch-geometric-2.6.1\r\n",
      "Note: you may need to restart the kernel to use updated packages.\n"
     ]
    }
   ],
   "source": [
    "pip install torch torch-geometric pandas networkx scikit-learn kaggle\n"
   ]
  },
  {
   "cell_type": "markdown",
   "id": "460bf86f",
   "metadata": {
    "papermill": {
     "duration": 0.005524,
     "end_time": "2025-01-31T21:30:58.775820",
     "exception": false,
     "start_time": "2025-01-31T21:30:58.770296",
     "status": "completed"
    },
    "tags": []
   },
   "source": [
    "# 1️⃣ EDA : Data Exploration"
   ]
  },
  {
   "cell_type": "code",
   "execution_count": 3,
   "id": "b541426f",
   "metadata": {
    "execution": {
     "iopub.execute_input": "2025-01-31T21:30:58.788148Z",
     "iopub.status.busy": "2025-01-31T21:30:58.787837Z",
     "iopub.status.idle": "2025-01-31T21:32:11.580305Z",
     "shell.execute_reply": "2025-01-31T21:32:11.579551Z"
    },
    "papermill": {
     "duration": 72.800441,
     "end_time": "2025-01-31T21:32:11.581926",
     "exception": false,
     "start_time": "2025-01-31T21:30:58.781485",
     "status": "completed"
    },
    "tags": []
   },
   "outputs": [],
   "source": [
    "df = pd.read_csv(\"/kaggle/input/iot-sdn-ids-dataset/dataset.csv\")"
   ]
  },
  {
   "cell_type": "code",
   "execution_count": 4,
   "id": "86f79318",
   "metadata": {
    "execution": {
     "iopub.execute_input": "2025-01-31T21:32:11.595366Z",
     "iopub.status.busy": "2025-01-31T21:32:11.595152Z",
     "iopub.status.idle": "2025-01-31T21:32:13.591080Z",
     "shell.execute_reply": "2025-01-31T21:32:13.590086Z"
    },
    "papermill": {
     "duration": 2.004067,
     "end_time": "2025-01-31T21:32:13.592656",
     "exception": false,
     "start_time": "2025-01-31T21:32:11.588589",
     "status": "completed"
    },
    "tags": []
   },
   "outputs": [
    {
     "name": "stderr",
     "output_type": "stream",
     "text": [
      "<ipython-input-4-d4edc7d4e3c0>:2: DeprecationWarning: DataFrameGroupBy.apply operated on the grouping columns. This behavior is deprecated, and in a future version of pandas the grouping columns will be excluded from the operation. Either pass `include_groups=False` to exclude the groupings or explicitly select the grouping columns after groupby to silence this warning.\n",
      "  df_sampled = df.groupby(target_column, group_keys=False).apply(lambda x: x.sample(frac=0.07, random_state=42))\n"
     ]
    }
   ],
   "source": [
    "target_column = \"Label\"\n",
    "df_sampled = df.groupby(target_column, group_keys=False).apply(lambda x: x.sample(frac=0.07, random_state=42))\n",
    "df = df_sampled.reset_index(drop=True)"
   ]
  },
  {
   "cell_type": "code",
   "execution_count": 5,
   "id": "d67bcf6d",
   "metadata": {
    "execution": {
     "iopub.execute_input": "2025-01-31T21:32:13.605482Z",
     "iopub.status.busy": "2025-01-31T21:32:13.605264Z",
     "iopub.status.idle": "2025-01-31T21:32:13.673622Z",
     "shell.execute_reply": "2025-01-31T21:32:13.672785Z"
    },
    "papermill": {
     "duration": 0.07638,
     "end_time": "2025-01-31T21:32:13.675130",
     "exception": false,
     "start_time": "2025-01-31T21:32:13.598750",
     "status": "completed"
    },
    "tags": []
   },
   "outputs": [
    {
     "data": {
      "text/html": [
       "<div>\n",
       "<style scoped>\n",
       "    .dataframe tbody tr th:only-of-type {\n",
       "        vertical-align: middle;\n",
       "    }\n",
       "\n",
       "    .dataframe tbody tr th {\n",
       "        vertical-align: top;\n",
       "    }\n",
       "\n",
       "    .dataframe thead th {\n",
       "        text-align: right;\n",
       "    }\n",
       "</style>\n",
       "<table border=\"1\" class=\"dataframe\">\n",
       "  <thead>\n",
       "    <tr style=\"text-align: right;\">\n",
       "      <th></th>\n",
       "      <th>Flow ID</th>\n",
       "      <th>Src IP</th>\n",
       "      <th>Src Port</th>\n",
       "      <th>Dst IP</th>\n",
       "      <th>Dst Port</th>\n",
       "      <th>Protocol</th>\n",
       "      <th>Timestamp</th>\n",
       "      <th>Flow Duration</th>\n",
       "      <th>Tot Fwd Pkts</th>\n",
       "      <th>Tot Bwd Pkts</th>\n",
       "      <th>...</th>\n",
       "      <th>Fwd Seg Size Min</th>\n",
       "      <th>Active Mean</th>\n",
       "      <th>Active Std</th>\n",
       "      <th>Active Max</th>\n",
       "      <th>Active Min</th>\n",
       "      <th>Idle Mean</th>\n",
       "      <th>Idle Std</th>\n",
       "      <th>Idle Max</th>\n",
       "      <th>Idle Min</th>\n",
       "      <th>Label</th>\n",
       "    </tr>\n",
       "  </thead>\n",
       "  <tbody>\n",
       "    <tr>\n",
       "      <th>0</th>\n",
       "      <td>319810</td>\n",
       "      <td>57</td>\n",
       "      <td>39721.359934</td>\n",
       "      <td>534</td>\n",
       "      <td>80.000000</td>\n",
       "      <td>6.0</td>\n",
       "      <td>3615</td>\n",
       "      <td>1.000000e+01</td>\n",
       "      <td>1.0</td>\n",
       "      <td>2.000000</td>\n",
       "      <td>...</td>\n",
       "      <td>32.0</td>\n",
       "      <td>0.000000</td>\n",
       "      <td>0.000000e+00</td>\n",
       "      <td>0.000000e+00</td>\n",
       "      <td>0.000000</td>\n",
       "      <td>0.000000e+00</td>\n",
       "      <td>0.000000e+00</td>\n",
       "      <td>0.000000e+00</td>\n",
       "      <td>0.000000e+00</td>\n",
       "      <td>Botnet</td>\n",
       "    </tr>\n",
       "    <tr>\n",
       "      <th>1</th>\n",
       "      <td>319824</td>\n",
       "      <td>57</td>\n",
       "      <td>44740.644974</td>\n",
       "      <td>534</td>\n",
       "      <td>80.000000</td>\n",
       "      <td>6.0</td>\n",
       "      <td>3625</td>\n",
       "      <td>6.018851e+02</td>\n",
       "      <td>10.0</td>\n",
       "      <td>9.000000</td>\n",
       "      <td>...</td>\n",
       "      <td>32.0</td>\n",
       "      <td>0.000000</td>\n",
       "      <td>0.000000e+00</td>\n",
       "      <td>0.000000e+00</td>\n",
       "      <td>0.000000</td>\n",
       "      <td>0.000000e+00</td>\n",
       "      <td>0.000000e+00</td>\n",
       "      <td>0.000000e+00</td>\n",
       "      <td>0.000000e+00</td>\n",
       "      <td>Botnet</td>\n",
       "    </tr>\n",
       "    <tr>\n",
       "      <th>2</th>\n",
       "      <td>319795</td>\n",
       "      <td>61</td>\n",
       "      <td>80.000000</td>\n",
       "      <td>530</td>\n",
       "      <td>33290.230412</td>\n",
       "      <td>6.0</td>\n",
       "      <td>3625</td>\n",
       "      <td>3.304059e+02</td>\n",
       "      <td>1.0</td>\n",
       "      <td>1.000000</td>\n",
       "      <td>...</td>\n",
       "      <td>32.0</td>\n",
       "      <td>0.000000</td>\n",
       "      <td>0.000000e+00</td>\n",
       "      <td>0.000000e+00</td>\n",
       "      <td>0.000000</td>\n",
       "      <td>0.000000e+00</td>\n",
       "      <td>0.000000e+00</td>\n",
       "      <td>0.000000e+00</td>\n",
       "      <td>0.000000e+00</td>\n",
       "      <td>Botnet</td>\n",
       "    </tr>\n",
       "    <tr>\n",
       "      <th>3</th>\n",
       "      <td>319820</td>\n",
       "      <td>57</td>\n",
       "      <td>43407.768421</td>\n",
       "      <td>534</td>\n",
       "      <td>80.000000</td>\n",
       "      <td>6.0</td>\n",
       "      <td>3616</td>\n",
       "      <td>9.702590e+02</td>\n",
       "      <td>10.0</td>\n",
       "      <td>9.000000</td>\n",
       "      <td>...</td>\n",
       "      <td>32.0</td>\n",
       "      <td>0.000000</td>\n",
       "      <td>0.000000e+00</td>\n",
       "      <td>0.000000e+00</td>\n",
       "      <td>0.000000</td>\n",
       "      <td>0.000000e+00</td>\n",
       "      <td>0.000000e+00</td>\n",
       "      <td>0.000000e+00</td>\n",
       "      <td>0.000000e+00</td>\n",
       "      <td>Botnet</td>\n",
       "    </tr>\n",
       "    <tr>\n",
       "      <th>4</th>\n",
       "      <td>319819</td>\n",
       "      <td>61</td>\n",
       "      <td>80.000000</td>\n",
       "      <td>530</td>\n",
       "      <td>43014.934245</td>\n",
       "      <td>6.0</td>\n",
       "      <td>3615</td>\n",
       "      <td>6.216134e+02</td>\n",
       "      <td>1.0</td>\n",
       "      <td>1.000000</td>\n",
       "      <td>...</td>\n",
       "      <td>32.0</td>\n",
       "      <td>0.000000</td>\n",
       "      <td>0.000000e+00</td>\n",
       "      <td>0.000000e+00</td>\n",
       "      <td>0.000000</td>\n",
       "      <td>0.000000e+00</td>\n",
       "      <td>0.000000e+00</td>\n",
       "      <td>0.000000e+00</td>\n",
       "      <td>0.000000e+00</td>\n",
       "      <td>Botnet</td>\n",
       "    </tr>\n",
       "    <tr>\n",
       "      <th>...</th>\n",
       "      <td>...</td>\n",
       "      <td>...</td>\n",
       "      <td>...</td>\n",
       "      <td>...</td>\n",
       "      <td>...</td>\n",
       "      <td>...</td>\n",
       "      <td>...</td>\n",
       "      <td>...</td>\n",
       "      <td>...</td>\n",
       "      <td>...</td>\n",
       "      <td>...</td>\n",
       "      <td>...</td>\n",
       "      <td>...</td>\n",
       "      <td>...</td>\n",
       "      <td>...</td>\n",
       "      <td>...</td>\n",
       "      <td>...</td>\n",
       "      <td>...</td>\n",
       "      <td>...</td>\n",
       "      <td>...</td>\n",
       "      <td>...</td>\n",
       "    </tr>\n",
       "    <tr>\n",
       "      <th>311996</th>\n",
       "      <td>501239</td>\n",
       "      <td>8288</td>\n",
       "      <td>50552.813097</td>\n",
       "      <td>2682</td>\n",
       "      <td>53.000000</td>\n",
       "      <td>17.0</td>\n",
       "      <td>543</td>\n",
       "      <td>9.134771e+03</td>\n",
       "      <td>1.0</td>\n",
       "      <td>1.000000</td>\n",
       "      <td>...</td>\n",
       "      <td>8.0</td>\n",
       "      <td>0.000000</td>\n",
       "      <td>0.000000e+00</td>\n",
       "      <td>0.000000e+00</td>\n",
       "      <td>0.000000</td>\n",
       "      <td>0.000000e+00</td>\n",
       "      <td>0.000000e+00</td>\n",
       "      <td>0.000000e+00</td>\n",
       "      <td>0.000000e+00</td>\n",
       "      <td>Web-Attack</td>\n",
       "    </tr>\n",
       "    <tr>\n",
       "      <th>311997</th>\n",
       "      <td>285122</td>\n",
       "      <td>58</td>\n",
       "      <td>59824.000000</td>\n",
       "      <td>530</td>\n",
       "      <td>2602.712505</td>\n",
       "      <td>6.0</td>\n",
       "      <td>496</td>\n",
       "      <td>1.000000e+01</td>\n",
       "      <td>2.0</td>\n",
       "      <td>2.000000</td>\n",
       "      <td>...</td>\n",
       "      <td>24.0</td>\n",
       "      <td>0.000000</td>\n",
       "      <td>0.000000e+00</td>\n",
       "      <td>0.000000e+00</td>\n",
       "      <td>0.000000</td>\n",
       "      <td>0.000000e+00</td>\n",
       "      <td>0.000000e+00</td>\n",
       "      <td>0.000000e+00</td>\n",
       "      <td>0.000000e+00</td>\n",
       "      <td>Web-Attack</td>\n",
       "    </tr>\n",
       "    <tr>\n",
       "      <th>311998</th>\n",
       "      <td>318077</td>\n",
       "      <td>58</td>\n",
       "      <td>59824.000000</td>\n",
       "      <td>530</td>\n",
       "      <td>9621.289848</td>\n",
       "      <td>6.0</td>\n",
       "      <td>496</td>\n",
       "      <td>1.000000e+01</td>\n",
       "      <td>2.0</td>\n",
       "      <td>2.000000</td>\n",
       "      <td>...</td>\n",
       "      <td>24.0</td>\n",
       "      <td>0.000000</td>\n",
       "      <td>0.000000e+00</td>\n",
       "      <td>0.000000e+00</td>\n",
       "      <td>0.000000</td>\n",
       "      <td>0.000000e+00</td>\n",
       "      <td>0.000000e+00</td>\n",
       "      <td>0.000000e+00</td>\n",
       "      <td>0.000000e+00</td>\n",
       "      <td>Web-Attack</td>\n",
       "    </tr>\n",
       "    <tr>\n",
       "      <th>311999</th>\n",
       "      <td>319243</td>\n",
       "      <td>58</td>\n",
       "      <td>59824.000000</td>\n",
       "      <td>530</td>\n",
       "      <td>9881.978336</td>\n",
       "      <td>6.0</td>\n",
       "      <td>496</td>\n",
       "      <td>9.000000e+00</td>\n",
       "      <td>2.0</td>\n",
       "      <td>2.000000</td>\n",
       "      <td>...</td>\n",
       "      <td>24.0</td>\n",
       "      <td>0.000000</td>\n",
       "      <td>0.000000e+00</td>\n",
       "      <td>0.000000e+00</td>\n",
       "      <td>0.000000</td>\n",
       "      <td>0.000000e+00</td>\n",
       "      <td>0.000000e+00</td>\n",
       "      <td>0.000000e+00</td>\n",
       "      <td>0.000000e+00</td>\n",
       "      <td>Web-Attack</td>\n",
       "    </tr>\n",
       "    <tr>\n",
       "      <th>312000</th>\n",
       "      <td>510900</td>\n",
       "      <td>8288</td>\n",
       "      <td>50696.000000</td>\n",
       "      <td>3536</td>\n",
       "      <td>443.000000</td>\n",
       "      <td>6.0</td>\n",
       "      <td>572</td>\n",
       "      <td>1.199614e+08</td>\n",
       "      <td>132.0</td>\n",
       "      <td>130.274823</td>\n",
       "      <td>...</td>\n",
       "      <td>20.0</td>\n",
       "      <td>923075.244038</td>\n",
       "      <td>1.140824e+06</td>\n",
       "      <td>3.740421e+06</td>\n",
       "      <td>468577.975118</td>\n",
       "      <td>1.407210e+07</td>\n",
       "      <td>1.155297e+06</td>\n",
       "      <td>1.450781e+07</td>\n",
       "      <td>1.121858e+07</td>\n",
       "      <td>Web-Attack</td>\n",
       "    </tr>\n",
       "  </tbody>\n",
       "</table>\n",
       "<p>312001 rows × 84 columns</p>\n",
       "</div>"
      ],
      "text/plain": [
       "        Flow ID  Src IP      Src Port  Dst IP      Dst Port  Protocol  \\\n",
       "0        319810      57  39721.359934     534     80.000000       6.0   \n",
       "1        319824      57  44740.644974     534     80.000000       6.0   \n",
       "2        319795      61     80.000000     530  33290.230412       6.0   \n",
       "3        319820      57  43407.768421     534     80.000000       6.0   \n",
       "4        319819      61     80.000000     530  43014.934245       6.0   \n",
       "...         ...     ...           ...     ...           ...       ...   \n",
       "311996   501239    8288  50552.813097    2682     53.000000      17.0   \n",
       "311997   285122      58  59824.000000     530   2602.712505       6.0   \n",
       "311998   318077      58  59824.000000     530   9621.289848       6.0   \n",
       "311999   319243      58  59824.000000     530   9881.978336       6.0   \n",
       "312000   510900    8288  50696.000000    3536    443.000000       6.0   \n",
       "\n",
       "        Timestamp  Flow Duration  Tot Fwd Pkts  Tot Bwd Pkts  ...  \\\n",
       "0            3615   1.000000e+01           1.0      2.000000  ...   \n",
       "1            3625   6.018851e+02          10.0      9.000000  ...   \n",
       "2            3625   3.304059e+02           1.0      1.000000  ...   \n",
       "3            3616   9.702590e+02          10.0      9.000000  ...   \n",
       "4            3615   6.216134e+02           1.0      1.000000  ...   \n",
       "...           ...            ...           ...           ...  ...   \n",
       "311996        543   9.134771e+03           1.0      1.000000  ...   \n",
       "311997        496   1.000000e+01           2.0      2.000000  ...   \n",
       "311998        496   1.000000e+01           2.0      2.000000  ...   \n",
       "311999        496   9.000000e+00           2.0      2.000000  ...   \n",
       "312000        572   1.199614e+08         132.0    130.274823  ...   \n",
       "\n",
       "        Fwd Seg Size Min    Active Mean    Active Std    Active Max  \\\n",
       "0                   32.0       0.000000  0.000000e+00  0.000000e+00   \n",
       "1                   32.0       0.000000  0.000000e+00  0.000000e+00   \n",
       "2                   32.0       0.000000  0.000000e+00  0.000000e+00   \n",
       "3                   32.0       0.000000  0.000000e+00  0.000000e+00   \n",
       "4                   32.0       0.000000  0.000000e+00  0.000000e+00   \n",
       "...                  ...            ...           ...           ...   \n",
       "311996               8.0       0.000000  0.000000e+00  0.000000e+00   \n",
       "311997              24.0       0.000000  0.000000e+00  0.000000e+00   \n",
       "311998              24.0       0.000000  0.000000e+00  0.000000e+00   \n",
       "311999              24.0       0.000000  0.000000e+00  0.000000e+00   \n",
       "312000              20.0  923075.244038  1.140824e+06  3.740421e+06   \n",
       "\n",
       "           Active Min     Idle Mean      Idle Std      Idle Max      Idle Min  \\\n",
       "0            0.000000  0.000000e+00  0.000000e+00  0.000000e+00  0.000000e+00   \n",
       "1            0.000000  0.000000e+00  0.000000e+00  0.000000e+00  0.000000e+00   \n",
       "2            0.000000  0.000000e+00  0.000000e+00  0.000000e+00  0.000000e+00   \n",
       "3            0.000000  0.000000e+00  0.000000e+00  0.000000e+00  0.000000e+00   \n",
       "4            0.000000  0.000000e+00  0.000000e+00  0.000000e+00  0.000000e+00   \n",
       "...               ...           ...           ...           ...           ...   \n",
       "311996       0.000000  0.000000e+00  0.000000e+00  0.000000e+00  0.000000e+00   \n",
       "311997       0.000000  0.000000e+00  0.000000e+00  0.000000e+00  0.000000e+00   \n",
       "311998       0.000000  0.000000e+00  0.000000e+00  0.000000e+00  0.000000e+00   \n",
       "311999       0.000000  0.000000e+00  0.000000e+00  0.000000e+00  0.000000e+00   \n",
       "312000  468577.975118  1.407210e+07  1.155297e+06  1.450781e+07  1.121858e+07   \n",
       "\n",
       "             Label  \n",
       "0           Botnet  \n",
       "1           Botnet  \n",
       "2           Botnet  \n",
       "3           Botnet  \n",
       "4           Botnet  \n",
       "...            ...  \n",
       "311996  Web-Attack  \n",
       "311997  Web-Attack  \n",
       "311998  Web-Attack  \n",
       "311999  Web-Attack  \n",
       "312000  Web-Attack  \n",
       "\n",
       "[312001 rows x 84 columns]"
      ]
     },
     "execution_count": 5,
     "metadata": {},
     "output_type": "execute_result"
    }
   ],
   "source": [
    "df"
   ]
  },
  {
   "cell_type": "code",
   "execution_count": 6,
   "id": "f6d11079",
   "metadata": {
    "execution": {
     "iopub.execute_input": "2025-01-31T21:32:13.688671Z",
     "iopub.status.busy": "2025-01-31T21:32:13.688432Z",
     "iopub.status.idle": "2025-01-31T21:32:13.693285Z",
     "shell.execute_reply": "2025-01-31T21:32:13.692494Z"
    },
    "papermill": {
     "duration": 0.012877,
     "end_time": "2025-01-31T21:32:13.694509",
     "exception": false,
     "start_time": "2025-01-31T21:32:13.681632",
     "status": "completed"
    },
    "tags": []
   },
   "outputs": [
    {
     "data": {
      "text/plain": [
       "Index(['Flow ID', 'Src IP', 'Src Port', 'Dst IP', 'Dst Port', 'Protocol',\n",
       "       'Timestamp', 'Flow Duration', 'Tot Fwd Pkts', 'Tot Bwd Pkts',\n",
       "       'TotLen Fwd Pkts', 'TotLen Bwd Pkts', 'Fwd Pkt Len Max',\n",
       "       'Fwd Pkt Len Min', 'Fwd Pkt Len Mean', 'Fwd Pkt Len Std',\n",
       "       'Bwd Pkt Len Max', 'Bwd Pkt Len Min', 'Bwd Pkt Len Mean',\n",
       "       'Bwd Pkt Len Std', 'Flow Byts/s', 'Flow Pkts/s', 'Flow IAT Mean',\n",
       "       'Flow IAT Std', 'Flow IAT Max', 'Flow IAT Min', 'Fwd IAT Tot',\n",
       "       'Fwd IAT Mean', 'Fwd IAT Std', 'Fwd IAT Max', 'Fwd IAT Min',\n",
       "       'Bwd IAT Tot', 'Bwd IAT Mean', 'Bwd IAT Std', 'Bwd IAT Max',\n",
       "       'Bwd IAT Min', 'Fwd PSH Flags', 'Bwd PSH Flags', 'Fwd URG Flags',\n",
       "       'Bwd URG Flags', 'Fwd Header Len', 'Bwd Header Len', 'Fwd Pkts/s',\n",
       "       'Bwd Pkts/s', 'Pkt Len Min', 'Pkt Len Max', 'Pkt Len Mean',\n",
       "       'Pkt Len Std', 'Pkt Len Var', 'FIN Flag Cnt', 'SYN Flag Cnt',\n",
       "       'RST Flag Cnt', 'PSH Flag Cnt', 'ACK Flag Cnt', 'URG Flag Cnt',\n",
       "       'CWE Flag Count', 'ECE Flag Cnt', 'Down/Up Ratio', 'Pkt Size Avg',\n",
       "       'Fwd Seg Size Avg', 'Bwd Seg Size Avg', 'Fwd Byts/b Avg',\n",
       "       'Fwd Pkts/b Avg', 'Fwd Blk Rate Avg', 'Bwd Byts/b Avg',\n",
       "       'Bwd Pkts/b Avg', 'Bwd Blk Rate Avg', 'Subflow Fwd Pkts',\n",
       "       'Subflow Fwd Byts', 'Subflow Bwd Pkts', 'Subflow Bwd Byts',\n",
       "       'Init Fwd Win Byts', 'Init Bwd Win Byts', 'Fwd Act Data Pkts',\n",
       "       'Fwd Seg Size Min', 'Active Mean', 'Active Std', 'Active Max',\n",
       "       'Active Min', 'Idle Mean', 'Idle Std', 'Idle Max', 'Idle Min', 'Label'],\n",
       "      dtype='object')"
      ]
     },
     "execution_count": 6,
     "metadata": {},
     "output_type": "execute_result"
    }
   ],
   "source": [
    "df.columns"
   ]
  },
  {
   "cell_type": "code",
   "execution_count": 7,
   "id": "c245f01c",
   "metadata": {
    "execution": {
     "iopub.execute_input": "2025-01-31T21:32:13.707808Z",
     "iopub.status.busy": "2025-01-31T21:32:13.707603Z",
     "iopub.status.idle": "2025-01-31T21:32:15.446458Z",
     "shell.execute_reply": "2025-01-31T21:32:15.445578Z"
    },
    "papermill": {
     "duration": 1.747154,
     "end_time": "2025-01-31T21:32:15.447849",
     "exception": false,
     "start_time": "2025-01-31T21:32:13.700695",
     "status": "completed"
    },
    "tags": []
   },
   "outputs": [
    {
     "data": {
      "image/png": "[encoded data removed]",
      "text/plain": [
       "<Figure size 1200x600 with 1 Axes>"
      ]
     },
     "metadata": {},
     "output_type": "display_data"
    }
   ],
   "source": [
    "import matplotlib.pyplot as plt\n",
    "import seaborn as sns\n",
    "\n",
    "plt.figure(figsize=(12,6))\n",
    "sns.countplot(x=df['Label'], order=df['Label'].value_counts().index)\n",
    "plt.xticks(rotation=90)\n",
    "plt.title('Distribution of Attack Types (After 7% Sampling)')\n",
    "plt.show()"
   ]
  },
  {
   "cell_type": "code",
   "execution_count": 8,
   "id": "44061fd2",
   "metadata": {
    "execution": {
     "iopub.execute_input": "2025-01-31T21:32:15.463549Z",
     "iopub.status.busy": "2025-01-31T21:32:15.463196Z",
     "iopub.status.idle": "2025-01-31T21:32:15.481998Z",
     "shell.execute_reply": "2025-01-31T21:32:15.481245Z"
    },
    "papermill": {
     "duration": 0.027908,
     "end_time": "2025-01-31T21:32:15.483255",
     "exception": false,
     "start_time": "2025-01-31T21:32:15.455347",
     "status": "completed"
    },
    "tags": []
   },
   "outputs": [
    {
     "data": {
      "text/plain": [
       "array(['Botnet', 'Brute-Force', 'DDoS-ICMP', 'DDoS-UDP', 'DoS-SYN',\n",
       "       'DoS-UDP', 'Exploitation', 'Malware', 'Mirai', 'Normal', 'Probe',\n",
       "       'R2L-IMAP', 'Recon-PingSweep', 'Recon-Sniffing', 'Spoofing', 'U2R',\n",
       "       'Web-Attack'], dtype=object)"
      ]
     },
     "execution_count": 8,
     "metadata": {},
     "output_type": "execute_result"
    }
   ],
   "source": [
    "df.Label.unique()"
   ]
  },
  {
   "cell_type": "code",
   "execution_count": 9,
   "id": "61f23343",
   "metadata": {
    "execution": {
     "iopub.execute_input": "2025-01-31T21:32:15.499139Z",
     "iopub.status.busy": "2025-01-31T21:32:15.498858Z",
     "iopub.status.idle": "2025-01-31T21:32:24.582182Z",
     "shell.execute_reply": "2025-01-31T21:32:24.581382Z"
    },
    "papermill": {
     "duration": 9.093207,
     "end_time": "2025-01-31T21:32:24.584121",
     "exception": false,
     "start_time": "2025-01-31T21:32:15.490914",
     "status": "completed"
    },
    "tags": []
   },
   "outputs": [],
   "source": [
    "import torch\n",
    "import torch.nn.functional as F\n",
    "import pandas as pd\n",
    "import numpy as np\n",
    "from torch_geometric.data import Data\n",
    "from torch_geometric.nn import GCNConv\n",
    "from sklearn.preprocessing import LabelEncoder, StandardScaler\n",
    "from sklearn.model_selection import train_test_split\n",
    "from sklearn.neighbors import radius_neighbors_graph\n",
    "from sklearn.neighbors import NearestNeighbors\n",
    "from tqdm import tqdm"
   ]
  },
  {
   "cell_type": "markdown",
   "id": "11f4907f",
   "metadata": {
    "papermill": {
     "duration": 0.007233,
     "end_time": "2025-01-31T21:32:24.599615",
     "exception": false,
     "start_time": "2025-01-31T21:32:24.592382",
     "status": "completed"
    },
    "tags": []
   },
   "source": [
    "\n",
    "# 2️⃣ Data Preprocessing"
   ]
  },
  {
   "cell_type": "code",
   "execution_count": 10,
   "id": "8303717c",
   "metadata": {
    "execution": {
     "iopub.execute_input": "2025-01-31T21:32:24.615741Z",
     "iopub.status.busy": "2025-01-31T21:32:24.615257Z",
     "iopub.status.idle": "2025-01-31T21:32:25.166662Z",
     "shell.execute_reply": "2025-01-31T21:32:25.165605Z"
    },
    "papermill": {
     "duration": 0.561713,
     "end_time": "2025-01-31T21:32:25.168559",
     "exception": false,
     "start_time": "2025-01-31T21:32:24.606846",
     "status": "completed"
    },
    "tags": []
   },
   "outputs": [],
   "source": [
    "features = df.drop(columns=[target_column])\n",
    "targets = df[target_column]\n",
    "\n",
    "label_encoder = LabelEncoder()\n",
    "y = label_encoder.fit_transform(targets)\n",
    "\n",
    "\n",
    "scaler = StandardScaler()\n",
    "x = scaler.fit_transform(features)"
   ]
  },
  {
   "cell_type": "markdown",
   "id": "3768795c",
   "metadata": {
    "papermill": {
     "duration": 0.008007,
     "end_time": "2025-01-31T21:32:25.184441",
     "exception": false,
     "start_time": "2025-01-31T21:32:25.176434",
     "status": "completed"
    },
    "tags": []
   },
   "source": [
    "# 3️⃣ Connect each node to its 5 most similar flows                  (based on their features) using KNN"
   ]
  },
  {
   "cell_type": "code",
   "execution_count": 11,
   "id": "5448bd5b",
   "metadata": {
    "execution": {
     "iopub.execute_input": "2025-01-31T21:32:25.201294Z",
     "iopub.status.busy": "2025-01-31T21:32:25.201035Z",
     "iopub.status.idle": "2025-01-31T21:52:01.774965Z",
     "shell.execute_reply": "2025-01-31T21:52:01.773974Z"
    },
    "papermill": {
     "duration": 1176.592481,
     "end_time": "2025-01-31T21:52:01.784828",
     "exception": false,
     "start_time": "2025-01-31T21:32:25.192347",
     "status": "completed"
    },
    "tags": []
   },
   "outputs": [
    {
     "name": "stderr",
     "output_type": "stream",
     "text": [
      "<ipython-input-11-e6a0921a3113>:7: UserWarning: Creating a tensor from a list of numpy.ndarrays is extremely slow. Please consider converting the list to a single numpy.ndarray with numpy.array() before converting to a tensor. (Triggered internally at ../torch/csrc/utils/tensor_new.cpp:278.)\n",
      "  edge_index = torch.tensor(adj.nonzero(), dtype=torch.long)\n"
     ]
    }
   ],
   "source": [
    "k = 5  # Drastically limits edges per node\n",
    "\n",
    "nbrs = NearestNeighbors(n_neighbors=k, algorithm=\"ball_tree\").fit(x)\n",
    "adj = nbrs.kneighbors_graph(x, mode=\"connectivity\")\n",
    "\n",
    "# Convert COO sparse matrix to edge_index directly\n",
    "edge_index = torch.tensor(adj.nonzero(), dtype=torch.long)\n"
   ]
  },
  {
   "cell_type": "markdown",
   "id": "f4307597",
   "metadata": {
    "papermill": {
     "duration": 0.007055,
     "end_time": "2025-01-31T21:52:01.799282",
     "exception": false,
     "start_time": "2025-01-31T21:52:01.792227",
     "status": "completed"
    },
    "tags": []
   },
   "source": [
    "# 4️⃣ Create PyTorch Geometric Data object"
   ]
  },
  {
   "cell_type": "code",
   "execution_count": 12,
   "id": "1ebaecf8",
   "metadata": {
    "execution": {
     "iopub.execute_input": "2025-01-31T21:52:01.814914Z",
     "iopub.status.busy": "2025-01-31T21:52:01.814638Z",
     "iopub.status.idle": "2025-01-31T21:52:01.920340Z",
     "shell.execute_reply": "2025-01-31T21:52:01.919203Z"
    },
    "papermill": {
     "duration": 0.11492,
     "end_time": "2025-01-31T21:52:01.921436",
     "exception": true,
     "start_time": "2025-01-31T21:52:01.806516",
     "status": "failed"
    },
    "tags": []
   },
   "outputs": [
    {
     "ename": "NameError",
     "evalue": "name 'data' is not defined",
     "output_type": "error",
     "traceback": [
      "\u001b[0;31m---------------------------------------------------------------------------\u001b[0m",
      "\u001b[0;31mNameError\u001b[0m                                 Traceback (most recent call last)",
      "\u001b[0;32m<ipython-input-12-670acde127f0>\u001b[0m in \u001b[0;36m<cell line: 2>\u001b[0;34m()\u001b[0m\n\u001b[1;32m      1\u001b[0m \u001b[0mdevice\u001b[0m \u001b[0;34m=\u001b[0m \u001b[0mtorch\u001b[0m\u001b[0;34m.\u001b[0m\u001b[0mdevice\u001b[0m\u001b[0;34m(\u001b[0m\u001b[0;34m\"cuda\"\u001b[0m \u001b[0;32mif\u001b[0m \u001b[0mtorch\u001b[0m\u001b[0;34m.\u001b[0m\u001b[0mcuda\u001b[0m\u001b[0;34m.\u001b[0m\u001b[0mis_available\u001b[0m\u001b[0;34m(\u001b[0m\u001b[0;34m)\u001b[0m \u001b[0;32melse\u001b[0m \u001b[0;34m\"cpu\"\u001b[0m\u001b[0;34m)\u001b[0m\u001b[0;34m\u001b[0m\u001b[0;34m\u001b[0m\u001b[0m\n\u001b[0;32m----> 2\u001b[0;31m \u001b[0mdata\u001b[0m \u001b[0;34m=\u001b[0m \u001b[0mdata\u001b[0m\u001b[0;34m.\u001b[0m\u001b[0mto\u001b[0m\u001b[0;34m(\u001b[0m\u001b[0mdevice\u001b[0m\u001b[0;34m)\u001b[0m\u001b[0;34m\u001b[0m\u001b[0;34m\u001b[0m\u001b[0m\n\u001b[0m\u001b[1;32m      3\u001b[0m \u001b[0;34m\u001b[0m\u001b[0m\n\u001b[1;32m      4\u001b[0m data = Data(\n\u001b[1;32m      5\u001b[0m     \u001b[0mx\u001b[0m\u001b[0;34m=\u001b[0m\u001b[0mtorch\u001b[0m\u001b[0;34m.\u001b[0m\u001b[0mtensor\u001b[0m\u001b[0;34m(\u001b[0m\u001b[0mx\u001b[0m\u001b[0;34m,\u001b[0m \u001b[0mdtype\u001b[0m\u001b[0;34m=\u001b[0m\u001b[0mtorch\u001b[0m\u001b[0;34m.\u001b[0m\u001b[0mfloat32\u001b[0m\u001b[0;34m)\u001b[0m\u001b[0;34m,\u001b[0m\u001b[0;34m\u001b[0m\u001b[0;34m\u001b[0m\u001b[0m\n",
      "\u001b[0;31mNameError\u001b[0m: name 'data' is not defined"
     ]
    }
   ],
   "source": [
    "device = torch.device(\"cuda\" if torch.cuda.is_available() else \"cpu\")\n",
    "data = data.to(device)\n",
    "\n",
    "data = Data(\n",
    "    x=torch.tensor(x, dtype=torch.float32),\n",
    "    edge_index=edge_index,\n",
    "    y=torch.tensor(y, dtype=torch.long)\n",
    ").to(device)\n",
    "\n"
   ]
  },
  {
   "cell_type": "markdown",
   "id": "a1a8dbe5",
   "metadata": {
    "papermill": {
     "duration": null,
     "end_time": null,
     "exception": null,
     "start_time": null,
     "status": "pending"
    },
    "tags": []
   },
   "source": [
    "# 5️⃣ Definition of GCN Model\n"
   ]
  },
  {
   "cell_type": "code",
   "execution_count": null,
   "id": "cc41a70e",
   "metadata": {
    "papermill": {
     "duration": null,
     "end_time": null,
     "exception": null,
     "start_time": null,
     "status": "pending"
    },
    "tags": []
   },
   "outputs": [],
   "source": [
    "class GCN(torch.nn.Module):\n",
    "    def __init__(self, input_dim, hidden_dim, output_dim):\n",
    "        super(GCN, self).__init__()\n",
    "        self.conv1 = GCNConv(input_dim, hidden_dim)\n",
    "        self.conv2 = GCNConv(hidden_dim, output_dim)\n",
    "\n",
    "    def forward(self, x, edge_index):\n",
    "        x = self.conv1(x, edge_index)\n",
    "        x = F.relu(x)\n",
    "        x = self.conv2(x, edge_index)\n",
    "        return F.log_softmax(x, dim=1)"
   ]
  },
  {
   "cell_type": "markdown",
   "id": "d0ea56c5",
   "metadata": {
    "papermill": {
     "duration": null,
     "end_time": null,
     "exception": null,
     "start_time": null,
     "status": "pending"
    },
    "tags": []
   },
   "source": [
    "# 6️⃣ Trainning the model\n"
   ]
  },
  {
   "cell_type": "code",
   "execution_count": null,
   "id": "b75cb72d",
   "metadata": {
    "papermill": {
     "duration": null,
     "end_time": null,
     "exception": null,
     "start_time": null,
     "status": "pending"
    },
    "tags": []
   },
   "outputs": [],
   "source": [
    "input_dim = x.shape[1]\n",
    "num_classes = len(np.unique(y))\n",
    "model = GCN(input_dim, hidden_dim=64, output_dim=num_classes).to(device)\n",
    "optimizer = torch.optim.Adam(model.parameters(), lr=0.01, weight_decay=5e-4)\n",
    "\n",
    "train_mask, test_mask = train_test_split(range(len(y)), test_size=0.2, random_state=42, stratify=y)\n",
    "data.train_mask = torch.tensor(train_mask, dtype=torch.long).to(device)\n",
    "data.test_mask = torch.tensor(test_mask, dtype=torch.long).to(device)\n",
    "\n",
    "for epoch in tqdm(range(1000), desc=\"Training Progress\"):\n",
    "    model.train()\n",
    "    optimizer.zero_grad()\n",
    "    out = model(data.x, data.edge_index)\n",
    "    loss = F.nll_loss(out[data.train_mask], data.y[data.train_mask])\n",
    "    loss.backward()\n",
    "    optimizer.step()\n",
    "    print(f\"Epoch {epoch+1}/100 - Loss: {loss.item():.4f}\")"
   ]
  },
  {
   "cell_type": "code",
   "execution_count": null,
   "id": "30151990",
   "metadata": {
    "execution": {
     "iopub.execute_input": "2025-01-29T18:03:55.166896Z",
     "iopub.status.busy": "2025-01-29T18:03:55.166560Z",
     "iopub.status.idle": "2025-01-29T18:03:55.172413Z",
     "shell.execute_reply": "2025-01-29T18:03:55.171592Z",
     "shell.execute_reply.started": "2025-01-29T18:03:55.166869Z"
    },
    "papermill": {
     "duration": null,
     "end_time": null,
     "exception": null,
     "start_time": null,
     "status": "pending"
    },
    "tags": []
   },
   "outputs": [],
   "source": [
    "#torch.save(model.state_dict(), f'iot_gcn_weights_acc_{98.58:.4f}.pth')\n"
   ]
  },
  {
   "cell_type": "markdown",
   "id": "9cbe6f86",
   "metadata": {
    "papermill": {
     "duration": null,
     "end_time": null,
     "exception": null,
     "start_time": null,
     "status": "pending"
    },
    "tags": []
   },
   "source": [
    "\n",
    "# 7️⃣ Evaluation"
   ]
  },
  {
   "cell_type": "code",
   "execution_count": null,
   "id": "ed97b1e1",
   "metadata": {
    "execution": {
     "iopub.execute_input": "2025-01-30T22:53:25.460013Z",
     "iopub.status.busy": "2025-01-30T22:53:25.459723Z",
     "iopub.status.idle": "2025-01-30T22:53:25.508845Z",
     "shell.execute_reply": "2025-01-30T22:53:25.508195Z",
     "shell.execute_reply.started": "2025-01-30T22:53:25.459992Z"
    },
    "papermill": {
     "duration": null,
     "end_time": null,
     "exception": null,
     "start_time": null,
     "status": "pending"
    },
    "tags": []
   },
   "outputs": [],
   "source": [
    "device = torch.device(\"cuda\" if torch.cuda.is_available() else \"cpu\")\n",
    "data = Data(\n",
    "    x=torch.tensor(x, dtype=torch.float32),  # Use float32 to save memory\n",
    "    edge_index=edge_index,\n",
    "    y=torch.tensor(y, dtype=torch.long)\n",
    ").to(device)\n",
    "\n",
    "data = data.to(device)\n",
    "\n",
    "class GCN(torch.nn.Module):\n",
    "    def __init__(self, input_dim, hidden_dim, output_dim):\n",
    "        super(GCN, self).__init__()\n",
    "        self.conv1 = GCNConv(input_dim, hidden_dim)\n",
    "        self.conv2 = GCNConv(hidden_dim, output_dim)\n",
    "\n",
    "    def forward(self, x, edge_index):\n",
    "        x = self.conv1(x, edge_index)\n",
    "        x = F.relu(x)\n",
    "        x = self.conv2(x, edge_index)\n",
    "        return F.log_softmax(x, dim=1)"
   ]
  },
  {
   "cell_type": "code",
   "execution_count": null,
   "id": "66d502ea",
   "metadata": {
    "execution": {
     "iopub.execute_input": "2025-01-30T22:53:27.379940Z",
     "iopub.status.busy": "2025-01-30T22:53:27.379581Z",
     "iopub.status.idle": "2025-01-30T22:53:27.543041Z",
     "shell.execute_reply": "2025-01-30T22:53:27.542172Z",
     "shell.execute_reply.started": "2025-01-30T22:53:27.379911Z"
    },
    "papermill": {
     "duration": null,
     "end_time": null,
     "exception": null,
     "start_time": null,
     "status": "pending"
    },
    "tags": []
   },
   "outputs": [],
   "source": [
    "input_dim = x.shape[1]\n",
    "num_classes = len(np.unique(y))\n",
    "train_mask, test_mask = train_test_split(range(len(y)), test_size=0.2, random_state=42, stratify=y)\n",
    "data.train_mask = torch.tensor(train_mask, dtype=torch.long).to(device)\n",
    "data.test_mask = torch.tensor(test_mask, dtype=torch.long).to(device)\n",
    "model = GCN(input_dim, hidden_dim=64, output_dim=num_classes).to(device)\n",
    "model.load_state_dict(torch.load(\"/kaggle/working/iot_gcn_weights_acc_98.5800.pth\"))\n"
   ]
  },
  {
   "cell_type": "code",
   "execution_count": null,
   "id": "0c6cc9f7",
   "metadata": {
    "execution": {
     "iopub.execute_input": "2025-01-30T22:53:30.794560Z",
     "iopub.status.busy": "2025-01-30T22:53:30.794282Z",
     "iopub.status.idle": "2025-01-30T22:53:30.816906Z",
     "shell.execute_reply": "2025-01-30T22:53:30.816058Z",
     "shell.execute_reply.started": "2025-01-30T22:53:30.794539Z"
    },
    "papermill": {
     "duration": null,
     "end_time": null,
     "exception": null,
     "start_time": null,
     "status": "pending"
    },
    "tags": []
   },
   "outputs": [],
   "source": [
    "def evaluate():\n",
    "    model.eval()\n",
    "    with torch.no_grad():\n",
    "        pred = model(data.x, data.edge_index).argmax(dim=1)\n",
    "        correct = (pred[data.test_mask] == data.y[data.test_mask]).sum().item()\n",
    "        acc = correct / len(data.test_mask)\n",
    "    print(f'Accuracy: {acc:.4f}')\n",
    "\n",
    "evaluate()\n"
   ]
  },
  {
   "cell_type": "markdown",
   "id": "8ea388b5",
   "metadata": {
    "papermill": {
     "duration": null,
     "end_time": null,
     "exception": null,
     "start_time": null,
     "status": "pending"
    },
    "tags": []
   },
   "source": [
    "# 8️⃣ Now i am going to test the model on the unseen data ( before 7% sampling )"
   ]
  },
  {
   "cell_type": "code",
   "execution_count": null,
   "id": "72ba4579",
   "metadata": {
    "execution": {
     "iopub.execute_input": "2025-01-30T22:54:01.162900Z",
     "iopub.status.busy": "2025-01-30T22:54:01.162590Z",
     "iopub.status.idle": "2025-01-30T22:54:01.327188Z",
     "shell.execute_reply": "2025-01-30T22:54:01.326368Z",
     "shell.execute_reply.started": "2025-01-30T22:54:01.162879Z"
    },
    "papermill": {
     "duration": null,
     "end_time": null,
     "exception": null,
     "start_time": null,
     "status": "pending"
    },
    "tags": []
   },
   "outputs": [],
   "source": [
    "# Sample 7% of the data while preserving original indices\n",
    "df_sampled = df.groupby(\"Label\", group_keys=False).apply(\n",
    "    lambda x: x.sample(frac=0.07, random_state=42)\n",
    ")\n",
    "\n",
    "sampled_indices = df_sampled.index\n",
    "\n",
    "# Get the remaining 93% of the data by excluding the sampled indices\n",
    "remaining_data = df.drop(index=sampled_indices)\n",
    "\n",
    "\n",
    "print(f\"Sampled data size: {len(df_sampled)}\")\n",
    "print(f\"Remaining data size: {len(remaining_data)}\")"
   ]
  },
  {
   "cell_type": "code",
   "execution_count": null,
   "id": "5fa56d93",
   "metadata": {
    "execution": {
     "iopub.execute_input": "2025-01-30T22:54:10.386922Z",
     "iopub.status.busy": "2025-01-30T22:54:10.386578Z",
     "iopub.status.idle": "2025-01-30T22:54:10.449856Z",
     "shell.execute_reply": "2025-01-30T22:54:10.449052Z",
     "shell.execute_reply.started": "2025-01-30T22:54:10.386895Z"
    },
    "papermill": {
     "duration": null,
     "end_time": null,
     "exception": null,
     "start_time": null,
     "status": "pending"
    },
    "tags": []
   },
   "outputs": [],
   "source": [
    "remaining_data"
   ]
  },
  {
   "cell_type": "code",
   "execution_count": null,
   "id": "0764e029",
   "metadata": {
    "execution": {
     "iopub.execute_input": "2025-01-30T22:55:01.168816Z",
     "iopub.status.busy": "2025-01-30T22:55:01.168496Z",
     "iopub.status.idle": "2025-01-30T22:55:01.315519Z",
     "shell.execute_reply": "2025-01-30T22:55:01.314659Z",
     "shell.execute_reply.started": "2025-01-30T22:55:01.168792Z"
    },
    "papermill": {
     "duration": null,
     "end_time": null,
     "exception": null,
     "start_time": null,
     "status": "pending"
    },
    "tags": []
   },
   "outputs": [],
   "source": [
    "# Sample 10% of the remaining unseen data for the new test set\n",
    "new_test_set = remaining_data.groupby(\"Label\", group_keys=False).apply(\n",
    "    lambda x: x.sample(frac=0.10, random_state=42)\n",
    ")\n",
    "new_test_set = new_test_set.reset_index(drop=True)"
   ]
  },
  {
   "cell_type": "code",
   "execution_count": null,
   "id": "fbe3f4d6",
   "metadata": {
    "execution": {
     "iopub.execute_input": "2025-01-30T22:55:04.898537Z",
     "iopub.status.busy": "2025-01-30T22:55:04.898240Z",
     "iopub.status.idle": "2025-01-30T22:55:04.911308Z",
     "shell.execute_reply": "2025-01-30T22:55:04.910255Z",
     "shell.execute_reply.started": "2025-01-30T22:55:04.898503Z"
    },
    "papermill": {
     "duration": null,
     "end_time": null,
     "exception": null,
     "start_time": null,
     "status": "pending"
    },
    "tags": []
   },
   "outputs": [],
   "source": [
    "# Separate features and target\n",
    "new_test_features = new_test_set.drop(columns=[target_column])\n",
    "new_test_targets = new_test_set[target_column]"
   ]
  },
  {
   "cell_type": "code",
   "execution_count": null,
   "id": "aaf9dc30",
   "metadata": {
    "execution": {
     "iopub.execute_input": "2025-01-30T22:55:04.992333Z",
     "iopub.status.busy": "2025-01-30T22:55:04.991943Z",
     "iopub.status.idle": "2025-01-30T22:55:05.048835Z",
     "shell.execute_reply": "2025-01-30T22:55:05.047788Z",
     "shell.execute_reply.started": "2025-01-30T22:55:04.992295Z"
    },
    "papermill": {
     "duration": null,
     "end_time": null,
     "exception": null,
     "start_time": null,
     "status": "pending"
    },
    "tags": []
   },
   "outputs": [],
   "source": [
    "# Apply the same preprocessing\n",
    "x_new_test = scaler.transform(new_test_features)  # Use the same scaler from training\n",
    "y_new_test = label_encoder.transform(new_test_targets)  # Use the same label encoder"
   ]
  },
  {
   "cell_type": "code",
   "execution_count": null,
   "id": "98cde518",
   "metadata": {
    "execution": {
     "iopub.execute_input": "2025-01-30T22:55:05.185046Z",
     "iopub.status.busy": "2025-01-30T22:55:05.184607Z",
     "iopub.status.idle": "2025-01-30T22:56:35.750571Z",
     "shell.execute_reply": "2025-01-30T22:56:35.749618Z",
     "shell.execute_reply.started": "2025-01-30T22:55:05.185007Z"
    },
    "papermill": {
     "duration": null,
     "end_time": null,
     "exception": null,
     "start_time": null,
     "status": "pending"
    },
    "tags": []
   },
   "outputs": [],
   "source": [
    "# Build graph for the new test set\n",
    "nbrs_new_test = NearestNeighbors(n_neighbors=k, algorithm=\"ball_tree\").fit(x_new_test)\n",
    "adj_new_test = nbrs_new_test.kneighbors_graph(x_new_test, mode=\"connectivity\")\n",
    "edge_index_new_test = torch.tensor(adj_new_test.nonzero(), dtype=torch.long)\n",
    "\n",
    "# Create PyTorch Geometric Data object for the new test set\n",
    "new_test_data = Data(\n",
    "    x=torch.tensor(x_new_test, dtype=torch.float32),\n",
    "    edge_index=edge_index_new_test,\n",
    "    y=torch.tensor(y_new_test, dtype=torch.long)\n",
    ").to(device)"
   ]
  },
  {
   "cell_type": "code",
   "execution_count": null,
   "id": "e1a82638",
   "metadata": {
    "execution": {
     "iopub.execute_input": "2025-01-30T22:56:35.752034Z",
     "iopub.status.busy": "2025-01-30T22:56:35.751768Z",
     "iopub.status.idle": "2025-01-30T22:56:35.755906Z",
     "shell.execute_reply": "2025-01-30T22:56:35.755123Z",
     "shell.execute_reply.started": "2025-01-30T22:56:35.752014Z"
    },
    "papermill": {
     "duration": null,
     "end_time": null,
     "exception": null,
     "start_time": null,
     "status": "pending"
    },
    "tags": []
   },
   "outputs": [],
   "source": [
    "def evaluate_on_new_test_set(model, new_test_data):\n",
    "    model.eval()\n",
    "    with torch.no_grad():\n",
    "        pred = model(new_test_data.x, new_test_data.edge_index).argmax(dim=1)        \n",
    "        correct = (pred == new_test_data.y).sum().item()\n",
    "        acc = correct / len(new_test_data.y)\n",
    "        \n",
    "    print(f'Accuracy on new test set: {acc:.4f}')"
   ]
  },
  {
   "cell_type": "code",
   "execution_count": null,
   "id": "7ade77fd",
   "metadata": {
    "execution": {
     "iopub.execute_input": "2025-01-30T22:56:35.756978Z",
     "iopub.status.busy": "2025-01-30T22:56:35.756751Z",
     "iopub.status.idle": "2025-01-30T22:56:35.782313Z",
     "shell.execute_reply": "2025-01-30T22:56:35.781592Z",
     "shell.execute_reply.started": "2025-01-30T22:56:35.756960Z"
    },
    "papermill": {
     "duration": null,
     "end_time": null,
     "exception": null,
     "start_time": null,
     "status": "pending"
    },
    "tags": []
   },
   "outputs": [],
   "source": [
    "evaluate_on_new_test_set(model, new_test_data)"
   ]
  },
  {
   "cell_type": "code",
   "execution_count": null,
   "id": "fba2a4d2",
   "metadata": {
    "execution": {
     "iopub.execute_input": "2025-01-31T01:47:37.333690Z",
     "iopub.status.busy": "2025-01-31T01:47:37.333420Z",
     "iopub.status.idle": "2025-01-31T01:47:37.348896Z",
     "shell.execute_reply": "2025-01-31T01:47:37.347559Z",
     "shell.execute_reply.started": "2025-01-31T01:47:37.333658Z"
    },
    "papermill": {
     "duration": null,
     "end_time": null,
     "exception": null,
     "start_time": null,
     "status": "pending"
    },
    "tags": []
   },
   "outputs": [],
   "source": [
    "evaluate_on_new_test_set(model, new_test_data)"
   ]
  },
  {
   "cell_type": "code",
   "execution_count": null,
   "id": "2eaa67fc",
   "metadata": {
    "papermill": {
     "duration": null,
     "end_time": null,
     "exception": null,
     "start_time": null,
     "status": "pending"
    },
    "tags": []
   },
   "outputs": [],
   "source": []
  }
 ],
 "metadata": {
  "kaggle": {
   "accelerator": "gpu",
   "dataSources": [
    {
     "datasetId": 3827292,
     "sourceId": 8946496,
     "sourceType": "datasetVersion"
    }
   ],
   "dockerImageVersionId": 30840,
   "isGpuEnabled": true,
   "isInternetEnabled": true,
   "language": "python",
   "sourceType": "notebook"
  },
  "kernelspec": {
   "display_name": "Python 3",
   "language": "python",
   "name": "python3"
  },
  "language_info": {
   "codemirror_mode": {
    "name": "ipython",
    "version": 3
   },
   "file_extension": ".py",
   "mimetype": "text/x-python",
   "name": "python",
   "nbconvert_exporter": "python",
   "pygments_lexer": "ipython3",
   "version": "3.10.12"
  },
  "papermill": {
   "default_parameters": {},
   "duration": 1274.350553,
   "end_time": "2025-01-31T21:52:04.503144",
   "environment_variables": {},
   "exception": true,
   "input_path": "__notebook__.ipynb",
   "output_path": "__notebook__.ipynb",
   "parameters": {},
   "start_time": "2025-01-31T21:30:50.152591",
   "version": "2.6.0"
  }
 },
 "nbformat": 4,
 "nbformat_minor": 5
}
